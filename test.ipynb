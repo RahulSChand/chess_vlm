{
 "cells": [
  {
   "cell_type": "code",
   "execution_count": 1,
   "metadata": {},
   "outputs": [],
   "source": [
    "import numpy as np\n",
    "import pickle"
   ]
  },
  {
   "cell_type": "code",
   "execution_count": 13,
   "metadata": {},
   "outputs": [
    {
     "name": "stdout",
     "output_type": "stream",
     "text": [
      "[[-1  0  0  1  0 -6  0  0]\n",
      " [ 0  0  0  6  0  1 -1 -1]\n",
      " [ 3 -3  2  0  5  1  0  0]\n",
      " [ 0  0 -2 -1  1  0  1 -4]\n",
      " [ 0  0  0  0  0  0 -1  0]\n",
      " [-1  0  0  4 -2  0  3  0]\n",
      " [-1  0  0  0 -5  0 -1 -3]\n",
      " [-4  1  1  2  0  4  1  0]]\n"
     ]
    }
   ],
   "source": [
    "b = np.load(\"dataset_random_384/board_pos_0.npy\")\n",
    "\n",
    "print(b)"
   ]
  },
  {
   "cell_type": "code",
   "execution_count": null,
   "metadata": {},
   "outputs": [],
   "source": []
  },
  {
   "cell_type": "code",
   "execution_count": 82,
   "metadata": {},
   "outputs": [],
   "source": [
    "# a = np.load(\"chess_arrays_mini.npy\")\n",
    "# a = np.load(\"4_1_mini_random_change.npy\")\n",
    "# a = np.load(\"4_1_random_changed.npy\")\n",
    "# a = np.load(\"actual_lm.npy\")\n",
    "# a = np.load(\"random_41_full.npy\")\n",
    "# a = np.load(\"random_mini_v2.npy\")\n",
    "# a = np.load(\"qwen25_384_eval.npy\")\n",
    "# a = np.load(\"qwen_7b_v7.npy\")\n",
    "# a = np.load(\"qwen_7b_notrain.npy\")\n",
    "# a = np.load(\"qwen_eval_128.npy\")\n",
    "a = np.load(\"pixtral_board_final.npy\")"
   ]
  },
  {
   "cell_type": "code",
   "execution_count": 83,
   "metadata": {},
   "outputs": [
    {
     "name": "stdout",
     "output_type": "stream",
     "text": [
      "(129, 8, 8)\n",
      "(128, 8, 8)\n"
     ]
    }
   ],
   "source": [
    "print(a.shape)\n",
    "a = a[:128]\n",
    "print(a.shape)"
   ]
  },
  {
   "cell_type": "code",
   "execution_count": 84,
   "metadata": {},
   "outputs": [],
   "source": [
    "def eval_strict(out, board_pos):\n",
    "\n",
    "    #! Only reward if non zero entries match. First find the total non zero entries in board_pos (which is ground truth).\n",
    "    # Create a boolean mask for non-zero elements in board_pos\n",
    "    non_zero_mask = board_pos != 0\n",
    "\n",
    "    # If there are no non-zero elements in board_pos, return 1.0 (or handle as appropriate)\n",
    "    if not np.any(non_zero_mask):\n",
    "        return 1.0  # Or 0.0, or raise an error, depending on desired behavior\n",
    "\n",
    "    # Compare elements of out and board_pos where board_pos is non-zero\n",
    "    correct_matches = out[non_zero_mask] == board_pos[non_zero_mask]\n",
    "\n",
    "    # Calculate accuracy\n",
    "    accuracy = np.mean(correct_matches)\n",
    "    \n",
    "    return accuracy\n"
   ]
  },
  {
   "cell_type": "code",
   "execution_count": 88,
   "metadata": {},
   "outputs": [
    {
     "name": "stdout",
     "output_type": "stream",
     "text": [
      "1.0\n"
     ]
    }
   ],
   "source": [
    "dataset_path = \"dataset_random_384/\"\n",
    "total = 0\n",
    "for i in range(128):\n",
    "\n",
    "    board_pos_path = f\"{dataset_path}/board_pos_{i}.npy\"\n",
    "    board_pos = np.load(board_pos_path)\n",
    "\n",
    "    total += eval_strict(a[i], board_pos)\n",
    "    \n",
    "print(total/128)    "
   ]
  },
  {
   "cell_type": "code",
   "execution_count": null,
   "metadata": {},
   "outputs": [],
   "source": [
    "#mini -> 0.787361676844295\n",
    "#full -> 0.6776969567408736\n",
    "\n",
    "#mini random -> 0.56884765625\n",
    "#full random -> 0.269 (!! WHAT ??)\n",
    "\n",
    "#Pixtral -> 0.041259765625  (LOL!!!)\n",
    "#Pixtral v2 -> 0.045166015625\n",
    "\n",
    "#llama 13 b vision -> 0.019 \n",
    "\n",
    "\n",
    "#constant -> 0.556 (non random dataset)\n",
    "\n",
    "#smolvlm (random dataset) -> 0.072998046875 (slightly different)\n",
    "#constant (random dataset) -> 0.0729 \n",
    "\n",
    "#llava -> 0.0 (after SFT)\n",
    "\n",
    "#Train on the dataset -> 0.076904296875"
   ]
  },
  {
   "cell_type": "code",
   "execution_count": 7,
   "metadata": {},
   "outputs": [
    {
     "name": "stdout",
     "output_type": "stream",
     "text": [
      "[[ 0  0 -6  0  0  0  0 -4]\n",
      " [-1  0 -3  0  0  0 -1 -1]\n",
      " [ 0 -1  0  0  0  0  0 -1]\n",
      " [ 0  0  0  0  0  0  0  0]\n",
      " [ 0  0 -4  0  0 -2  0  0]\n",
      " [ 0  0  0  0  0  0  0  0]\n",
      " [ 0  1  0  1  0  1  0  1]\n",
      " [ 4  2  3  0  5  3  2  4]]\n"
     ]
    }
   ],
   "source": [
    "# print(a[0])"
   ]
  },
  {
   "cell_type": "code",
   "execution_count": 4,
   "metadata": {},
   "outputs": [],
   "source": [
    "import pickle\n",
    "\n",
    "# data = [['hello', 'world'], ['test', 'pickle']]\n",
    "\n",
    "# with open('data.pkl', 'wb') as f:\n",
    "#     pickle.dump(data, f)\n",
    "\n",
    "# Load\n",
    "with open('best_moves_128_with_matrix/best_moves.pkl', 'rb') as f:\n",
    "    loaded_data = pickle.load(f)\n",
    "\n",
    "with open('best_moves_128_with_matrix/color.pkl', 'rb') as f:\n",
    "    color_data = pickle.load(f)\n",
    "\n"
   ]
  },
  {
   "cell_type": "code",
   "execution_count": 5,
   "metadata": {},
   "outputs": [
    {
     "data": {
      "text/plain": [
       "'b4'"
      ]
     },
     "execution_count": 5,
     "metadata": {},
     "output_type": "execute_result"
    }
   ],
   "source": [
    "loaded_data[0][0]"
   ]
  },
  {
   "cell_type": "code",
   "execution_count": 77,
   "metadata": {},
   "outputs": [],
   "source": [
    "# with open('best_41_full_color_correct.pkl', 'rb') as f:\n",
    "#     filtered_data = pickle.load(f)\n",
    "#qwen_best.pkl\n",
    "\n",
    "with open('smol_vlm_best.pkl.pkl', 'rb') as f:\n",
    "    filtered_data = pickle.load(f)\n"
   ]
  },
  {
   "cell_type": "code",
   "execution_count": 78,
   "metadata": {},
   "outputs": [
    {
     "name": "stdout",
     "output_type": "stream",
     "text": [
      "{'d5': 102, 'e5': 2, 'd4': 18, 'e4': 6}\n"
     ]
    }
   ],
   "source": [
    "# print(list(set(filtered_data)))\n",
    "# print(len(list(set(filtered_data))))\n",
    "\n",
    "counts = {x: filtered_data.count(x) for x in set(filtered_data)}\n",
    "print(counts)"
   ]
  },
  {
   "cell_type": "code",
   "execution_count": 70,
   "metadata": {},
   "outputs": [
    {
     "name": "stdout",
     "output_type": "stream",
     "text": [
      "{'Nc6': 1, 'Rh7': 1, 'Bxd3': 1, 'Nxe5': 1, 'dxe5': 2, 'f4': 1, 'Bb4': 1, 'Nb4': 1, 'Nxc6': 1, 'Qxc3': 1, 'Qe3': 1, 'b4': 2, 'Rxa5': 2, 'Nf6': 3, 'Nd4+': 1, 'Bxd7': 1, 'e4': 9, 'Bxb5': 1, 'bxa5': 1, 'Qd7': 1, 'Nxe4': 1, 'Bxd4': 1, 'Qxh7': 1, 'Nxg5': 1, 'Nd6': 1, 'Nd7': 1, 'Be7': 1, 'g4': 1, 'Bxg5': 2, 'Nxb5': 1, 'Rb5': 1, 'Bg7': 2, 'Nxh6': 1, 'Nxd8+': 1, 'Nf4': 1, 'Nxf2': 1, 'exf7+': 1, 'e5': 6, 'Bxc1': 1, 'Bxf4': 1, 'Nxb6': 1, 'Rxe4+': 1, 'hxg3': 1, 'Nd2': 1, 'hxg5': 1, 'Bxe7': 1, 'f5': 1, 'Qxc2': 2, 'Qxe4': 1, 'Qxf2#': 1, 'Bg2': 1, 'exf4': 1, 'a6': 1, 'Qg7': 1, 'hxg4': 1, 'd5': 2, 'Nxa6': 2, 'Bxh3': 1, 'Qxe5+': 1, 'fxe5+': 1, 'bxa3': 1, 'Bxb2': 1, 'Kxf7': 1, 'Bxg7': 1, 'cxd5': 1, 'c5': 1, 'cxd3': 2, 'Qb3+': 1, 'Qxg4+': 1, 'Qc8': 1, 'Kxc8': 1, 'cxb5': 1, 'd4': 3, 'g5': 2, 'dxe4': 1, 'Na6': 1, 'exd6': 1, 'd6': 1, 'bxc3': 1, 'Kxf8': 1, 'Qxd5': 1, 'Nxa3': 1, 'Bxd6': 1, 'c2': 1, 'a4': 1, 'Rxg5': 1, 'O-O': 1, 'Rf8': 1, 'hxg6': 1, 'c6': 2, 'Nxh7': 1, 'Rxa3': 1, 'Nf3': 2, 'Kf2': 1, 'Qc2': 1, 'Nc5': 1, 'fxg2': 1, 'g6': 1, 'd3': 1}\n"
     ]
    }
   ],
   "source": [
    "a = []\n",
    "for gt in loaded_data:\n",
    "    a.append(gt[0])\n",
    "    # if gt[0] == 'd5':\n",
    "    \n",
    "\n",
    "counts = {x: a.count(x) for x in set(a)}\n",
    "print(counts)"
   ]
  },
  {
   "cell_type": "code",
   "execution_count": 79,
   "metadata": {},
   "outputs": [],
   "source": [
    "new_filtered_data = filtered_data[:-1]"
   ]
  },
  {
   "cell_type": "code",
   "execution_count": 80,
   "metadata": {},
   "outputs": [
    {
     "name": "stdout",
     "output_type": "stream",
     "text": [
      "['d5', 'd5', 'e4', 'd4', 'd5', 'd5', 'd5', 'd5', 'd5', 'd4', 'd5', 'd5', 'd5', 'e5', 'd5', 'd5', 'd5', 'd5', 'd5', 'd5', 'd5', 'd5', 'd5', 'd5', 'd5', 'd5', 'd5', 'd5', 'e4', 'd5', 'd5', 'd5', 'd5', 'd5', 'd5', 'd5', 'd5', 'd5', 'd5', 'd5', 'd5', 'd4', 'd5', 'd5', 'd4', 'd5', 'd5', 'd5', 'd5', 'd5', 'd5', 'd5', 'd5', 'd5', 'd5', 'd4', 'd5', 'd5', 'd4', 'd5', 'd5', 'd4', 'd5', 'd5', 'd5', 'd5', 'd4', 'd4', 'd5', 'd5', 'd4', 'd5', 'd5', 'd5', 'd5', 'd5', 'd5', 'd5', 'd4', 'd5', 'e4', 'd5', 'd5', 'd5', 'd4', 'd5', 'd5', 'd5', 'd5', 'd5', 'd5', 'd4', 'd5', 'd4', 'd5', 'd5', 'd5', 'd4', 'd5', 'd5', 'd5', 'd5', 'e4', 'd5', 'd5', 'd5', 'd5', 'd4', 'd5', 'd4', 'd5', 'd5', 'e4', 'e5', 'd4', 'd5', 'd5', 'd5', 'd5', 'd5', 'd5', 'd5', 'd5', 'e4', 'd5', 'd5', 'd5']\n"
     ]
    }
   ],
   "source": [
    "print(new_filtered_data)"
   ]
  },
  {
   "cell_type": "code",
   "execution_count": 81,
   "metadata": {},
   "outputs": [
    {
     "name": "stdout",
     "output_type": "stream",
     "text": [
      "d5 ['b4', 'd5', 'h5']\n",
      "e4 ['e4', 'd4', 'Nf3']\n",
      "d5 ['d5', 'Nf6', 'e6']\n",
      "d5 ['a6', 'c6', 'b4']\n",
      "d5 ['e5', 'Nf6', 'd5']\n",
      "d5 ['e5', 'Nf6', 'd5']\n",
      "d5 ['bxa3', 'Be7', 'Bc5']\n",
      "d5 ['c2', 'c6', 'exd3']\n",
      "d5 ['Kxf8', 'Ne6', 'd6']\n",
      "e4 ['e4', 'd4', 'g3']\n",
      "d5 ['e5', 'd5', 'Nc6']\n",
      "d4 ['e4', 'Nc3', 'Nf3']\n",
      "d5 ['c5', 'e5', 'Nf6']\n",
      "d5 ['g6', 'hxg4', 'e6']\n",
      "d5 ['hxg4', 'e5', 'd5']\n",
      "d5 ['cxd3', 'Na6', 'd5']\n",
      "d4 ['Nxb5', 'e4', 'Nf3']\n",
      "d4 ['Bxf4', 'gxh5', 'e3']\n",
      "d5 ['Nc6', 'd5', 'h6']\n",
      "d5 ['e5', 'h5', 'd6']\n",
      "d5 ['Bg7', 'Nf6', 'Qa5+']\n",
      "d5 ['exf4', 'h4', 'd5']\n",
      "d5 ['Qxe4', 'Ra7', 'd5']\n",
      "d5 ['Nf6', 'fxe4', 'e5']\n",
      "d5 ['f5', 'fxg5', 'hxg5']\n",
      "d5 ['g4', 'a5', 'h6']\n",
      "e4 ['e4', 'd4', 'Nf3']\n",
      "d4 ['Nxd8+', 'Bxc5', 'Na3']\n",
      "d5 ['Nc5', 'd5', 'Rh8']\n",
      "d4 ['Bxb5', 'Nxb5', 'Qf3']\n",
      "d5 ['Nxa6', 'Bxa6', 'Kf7']\n",
      "e4 ['e4', 'd4', 'Nf3']\n",
      "d5 ['d5', 'Nf6', 'Nc6']\n",
      "d5 ['e5', 'c5', 'Nf6']\n",
      "d4 ['d4', 'g3', 'd3']\n",
      "e4 ['e4', 'd4', 'e3']\n",
      "d5 ['Qc8', 'Bg7', 'Qf6']\n",
      "e4 ['e4', 'd4', 'Nf3']\n",
      "127\n",
      "0.2992125984251969\n"
     ]
    }
   ],
   "source": [
    "\n",
    "\n",
    "correct = 0\n",
    "for i in range(len(new_filtered_data)):\n",
    "    my_prediction = new_filtered_data[i]\n",
    "    gt_preds = loaded_data[i]\n",
    "\n",
    "    # print(gt_preds[:2])\n",
    "    if my_prediction in gt_preds[:10]:\n",
    "        print(my_prediction, gt_preds[:3])\n",
    "        correct += 1\n",
    "\n",
    "print(len(new_filtered_data))\n",
    "print(correct/len(new_filtered_data))"
   ]
  },
  {
   "cell_type": "code",
   "execution_count": 11,
   "metadata": {},
   "outputs": [
    {
     "name": "stdout",
     "output_type": "stream",
     "text": [
      "['Nf7', 'e3', 'd4', 'bxc5', 'Nxa3', 'd5', 'e5', 'Nf3', 'fxg5', 'Nxb5', 'Nxb5', 'd5', 'Nxf7', 'Bxg5', 'g5', 'd5', 'Ke1', 'e4', 'Bb7', 'bxc4', 'd5', 'Nf6', 'cxd4', 'Ke1', 'cxd4', 'Nxd1', 'e4', 'Bxd7', 'd4', 'Nxd1', 'fxg5', 'Nf3', 'd5', 'fxg4', 'Nxd1', 'Qh4', 'e4', 'd5', 'exd5', 'e5', 'Qf5', 'Be2', 'Nxb5', 'g4', 'fxg4', 'd5', 'b4', 'Nxd1', 'fxg4', 'g5', 'Qxe4', 'Bxh3', 'Ng3+', 'd5', 'fxg4', 'Bxh3', 'fxg5', 'Qh4', 'g5', 'Bxg5', 'Bxd7', 'Be2', 'Bxa3', 'fxg5', 'e5', 'Bb7', 'fxg4', 'Be2', 'Nf3', 'e5', 'b4', 'Nf7', 'Bxa3', 'cxd4', 'Qxf4', 'Bxe7', 'Bb7', 'Nxd1', 'fxg4', 'fxe4', 'd4', 'exd5', 'Kd2', 'Nf3', 'Qxd8', 'exd5', 'Qxe4', 'Qxf4', 'Bxd7', 'e5', 'e4', 'Qxe4', 'Nxd1', 'Qxe4', 'Ng3+', 'e5', 'cxd4', 'g5', 'Qh4', 'Qb1+', 'Nxf3+', 'Ke1', 'd4', 'd5', 'Bb7', 'Nxd1', 'Qxd8', 'Nf3', 'd5', 'Nf3', 'Nxd1', 'Qf5', 'd4', 'Qb5', 'Bxa8', 'Nxa3', 'Bb7', 'Nxd3', 'exd5', 'Bb7', 'e5', 'Bb7', 'fxg5', 'd4', 'Qh4', 'hxg5', 'Nxa3', 'Bb7']\n"
     ]
    }
   ],
   "source": [
    "print(new_filtered_data)"
   ]
  },
  {
   "cell_type": "code",
   "execution_count": 12,
   "metadata": {},
   "outputs": [
    {
     "name": "stdout",
     "output_type": "stream",
     "text": [
      "128\n",
      "0.0\n"
     ]
    }
   ],
   "source": [
    "\n",
    "\n",
    "correct = 0\n",
    "for i in range(len(new_filtered_data)):\n",
    "    my_prediction = new_filtered_data[i][0]\n",
    "    gt_preds = loaded_data[i]\n",
    "\n",
    "    # print(gt_preds[:2])\n",
    "    if my_prediction in gt_preds[:10]:\n",
    "        correct += 1\n",
    "\n",
    "print(len(new_filtered_data))\n",
    "print(correct/len(new_filtered_data))"
   ]
  }
 ],
 "metadata": {
  "kernelspec": {
   "display_name": "chess_env",
   "language": "python",
   "name": "python3"
  },
  "language_info": {
   "codemirror_mode": {
    "name": "ipython",
    "version": 3
   },
   "file_extension": ".py",
   "mimetype": "text/x-python",
   "name": "python",
   "nbconvert_exporter": "python",
   "pygments_lexer": "ipython3",
   "version": "3.11.11"
  }
 },
 "nbformat": 4,
 "nbformat_minor": 2
}
